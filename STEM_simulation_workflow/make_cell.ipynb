{
 "cells": [
  {
   "cell_type": "code",
   "execution_count": null,
   "metadata": {},
   "outputs": [],
   "source": [
    "import numpy as np\n",
    "\n",
    "from ase.spacegroup import crystal\n",
    "from ase.visualize import view\n",
    "from ase import Atom\n",
    "# Visualisation with \"ngl\" viewer requires the nglview library\n",
    "# see http://nglviewer.org/nglview/latest/index.html"
   ]
  },
  {
   "cell_type": "markdown",
   "metadata": {},
   "source": [
    "### Create the unit cell"
   ]
  },
  {
   "cell_type": "code",
   "execution_count": null,
   "metadata": {},
   "outputs": [],
   "source": [
    "a = 3.57\n",
    "Ge3Mn5 = crystal(('Ge', 'Mn', 'Mn'), [(0.610,0.000,0.250),\n",
    "                                      (0.250,0.000,0.250),\n",
    "                                      (0.333333,0.666667,0.000)],\n",
    "                 spacegroup=193,\n",
    "                 cellpar=[7.184, 7.184, 5.053, 90, 90, 120]\n",
    "                )"
   ]
  },
  {
   "cell_type": "code",
   "execution_count": null,
   "metadata": {},
   "outputs": [],
   "source": [
    "view(Ge3Mn5, viewer='ngl')"
   ]
  },
  {
   "cell_type": "markdown",
   "metadata": {},
   "source": [
    "### Add interstitial atoms in the unit cell"
   ]
  },
  {
   "cell_type": "code",
   "execution_count": null,
   "metadata": {},
   "outputs": [],
   "source": [
    "z_pos = Ge3Mn5.cell.cellpar()[2] / 2\n",
    "print('z_position:', z_pos)\n",
    "interstitial_Ge_atom1 = Atom(symbol='Ge',\n",
    "                             position=(0, 0, z_pos),\n",
    "                             tag=1\n",
    "                            )\n",
    "interstitial_Ge_atom2 = Atom(symbol='Ge',\n",
    "                             position=(0, 0, 0),\n",
    "                             tag=2\n",
    "                            )\n",
    "Ge3Mn5.append(interstitial_Ge_atom1)\n",
    "Ge3Mn5.append(interstitial_Ge_atom2)"
   ]
  },
  {
   "cell_type": "code",
   "execution_count": null,
   "metadata": {},
   "outputs": [],
   "source": [
    "view(Ge3Mn5, viewer='ngl')"
   ]
  },
  {
   "cell_type": "code",
   "execution_count": null,
   "metadata": {},
   "outputs": [],
   "source": [
    "Ge3Mn5.cell"
   ]
  },
  {
   "cell_type": "markdown",
   "metadata": {},
   "source": [
    "### Make the cell orthorhombic"
   ]
  },
  {
   "cell_type": "code",
   "execution_count": null,
   "metadata": {},
   "outputs": [],
   "source": [
    "from ase.build import make_supercell\n",
    "# hexagonal to orthorhombric transformation\n",
    "transformation_matrix = [[0, -1, 0],\n",
    "                         [2, 1, 0],\n",
    "                         [0, 0, 1]]\n",
    "Ge3Mn5_orthorhombic = make_supercell(Ge3Mn5, transformation_matrix)\n",
    "\n",
    "# Make a new Atoms object to reset the cell\n",
    "from ase import Atoms\n",
    "Ge3Mn5_orthorhombic = Atoms(symbols=Ge3Mn5_orthorhombic.get_chemical_symbols(),\n",
    "                             scaled_positions=Ge3Mn5_orthorhombic.get_scaled_positions(),\n",
    "                             cell=Ge3Mn5_orthorhombic.cell.cellpar(),\n",
    "                             tags=Ge3Mn5_orthorhombic.get_array('tags'),\n",
    "                             pbc=True\n",
    "                            )"
   ]
  },
  {
   "cell_type": "code",
   "execution_count": null,
   "metadata": {},
   "outputs": [],
   "source": [
    "Ge3Mn5_orthorhombic.cell"
   ]
  },
  {
   "cell_type": "code",
   "execution_count": null,
   "metadata": {},
   "outputs": [],
   "source": [
    "view(Ge3Mn5_orthorhombic, viewer='ngl')"
   ]
  },
  {
   "cell_type": "code",
   "execution_count": null,
   "metadata": {},
   "outputs": [],
   "source": [
    "def set_occupancy_interstitial(atoms, occupancy, label):\n",
    "    \"\"\"\n",
    "    Set the occupancy to the atoms tag with \"label\".\n",
    "    \"\"\"\n",
    "    atoms = atoms.copy()\n",
    "    # Set default occupancy to 1:\n",
    "    atoms.set_array('occupancies', np.ones_like(atoms.numbers, dtype='float'))\n",
    "\n",
    "    # Set occupancy of Ge interstitial atom (label with the tag 1 or 2)\n",
    "    for tag in label:\n",
    "        atoms.arrays['occupancies'][np.where(atoms.get_array('tags') == tag)[0]] = occupancy\n",
    "\n",
    "    return atoms"
   ]
  },
  {
   "cell_type": "code",
   "execution_count": null,
   "metadata": {},
   "outputs": [],
   "source": [
    "occupancy = 0.1\n",
    "atoms = set_occupancy_interstitial(Ge3Mn5_orthorhombic, occupancy, label=[1, 2])"
   ]
  },
  {
   "cell_type": "markdown",
   "metadata": {},
   "source": [
    "### Export cell"
   ]
  },
  {
   "cell_type": "code",
   "execution_count": null,
   "metadata": {},
   "outputs": [],
   "source": [
    "for occupancy in [0.0, 0.1, 0.2, 0.3, 0.4, 0.5, 0.6, 0.7, 0.8, 0.9, 1.0]:\n",
    "    atoms = set_occupancy_interstitial(Ge3Mn5_orthorhombic, occupancy, [1, 2])\n",
    "    atoms.write(f\"Ge3Mn5_GeI_occ{occupancy}.xyz\", format='prismatic',\n",
    "                debye_waller_factors={'Ge':0.61, 'Mn':0.34})"
   ]
  },
  {
   "cell_type": "code",
   "execution_count": null,
   "metadata": {},
   "outputs": [],
   "source": [
    "# Save for mustem\n",
    "Ge3Mn5_orthorhombic.write(\"Ge3Mn5_GeI-single.xtl\", format='mustem', keV=100,\n",
    "                          debye_waller_factors={'Ge':0.61, 'Mn':0.4, 'C':0.05})"
   ]
  },
  {
   "cell_type": "code",
   "execution_count": null,
   "metadata": {},
   "outputs": [],
   "source": [
    "# Save xyz for prismatic\n",
    "Ge3Mn5_orthorhombic.write(\"Ge3Mn5_GeI-single.xyz\", format='prismatic',\n",
    "                          debye_waller_factors={'Ge':0.61, 'Mn':0.4})"
   ]
  },
  {
   "cell_type": "markdown",
   "metadata": {},
   "source": [
    "### Visualise slicing"
   ]
  },
  {
   "cell_type": "code",
   "execution_count": null,
   "metadata": {},
   "outputs": [],
   "source": [
    "from ase.geometry import get_layers\n",
    "slice_thickness = 1.26325\n",
    "atoms = Ge3Mn5_orthorhombic\n",
    "indices = get_layers(atoms, (0,0,1), tolerance=0.25)[0]"
   ]
  },
  {
   "cell_type": "code",
   "execution_count": null,
   "metadata": {},
   "outputs": [],
   "source": [
    "%matplotlib inline\n",
    "import matplotlib.pyplot as plt\n",
    "from ase.visualize.plot import plot_atoms\n",
    "fig, axes = plt.subplots(nrows=2, ncols=4, sharex=True, sharey='row', constrained_layout=True)\n",
    "for layer_index in range(4):\n",
    "    layer = atoms[indices==layer_index]\n",
    "    #axes[0, layer_index].set_title(f'Slice #{layer_index}')\n",
    "    plot_atoms(layer, axes[0, layer_index], radii=0.3)\n",
    "    plot_atoms(layer, axes[1, layer_index], radii=0.3, rotation='90x')\n",
    "\n",
    "plt.savefig('slicing.png', dpi=300)"
   ]
  },
  {
   "cell_type": "code",
   "execution_count": null,
   "metadata": {},
   "outputs": [],
   "source": []
  }
 ],
 "metadata": {
  "kernelspec": {
   "display_name": "Python 3",
   "language": "python",
   "name": "python3"
  },
  "language_info": {
   "codemirror_mode": {
    "name": "ipython",
    "version": 3
   },
   "file_extension": ".py",
   "mimetype": "text/x-python",
   "name": "python",
   "nbconvert_exporter": "python",
   "pygments_lexer": "ipython3",
   "version": "3.8.8"
  }
 },
 "nbformat": 4,
 "nbformat_minor": 4
}
