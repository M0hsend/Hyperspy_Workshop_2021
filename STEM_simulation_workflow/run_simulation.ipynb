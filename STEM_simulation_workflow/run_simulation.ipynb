{
 "cells": [
  {
   "cell_type": "code",
   "execution_count": null,
   "metadata": {},
   "outputs": [],
   "source": [
    "import pyprismatic as pr\n",
    "import time\n",
    "import os"
   ]
  },
  {
   "cell_type": "code",
   "execution_count": null,
   "metadata": {},
   "outputs": [],
   "source": [
    "base_name = \"Ge3Mn5_GeI_occ\"\n",
    "occupancy = [0.0, 0.1, 0.2, 0.3, 0.4, 0.5, 0.6, 0.7, 0.8, 0.9, 1.0]\n",
    "occupancy = [0.0, 0.1, 0.2]"
   ]
  },
  {
   "cell_type": "code",
   "execution_count": null,
   "metadata": {},
   "outputs": [],
   "source": [
    "phonons = 1\n",
    "sliceThickness = 1.26325\n",
    "tileX = tileY = 3\n",
    "tileZ = 5\n",
    "E0 = 100 # in keV\n",
    "probeStepX = probeStepY = 0.2  # in A\n",
    "probeDefocus = 0  # in A\n",
    "probeSemiangle = 35  # in mrad\n",
    "probeStepX = probeStepY = 0.2  # in A\n",
    "C3 = 0.01  # in mm\n",
    "scanWindowXMin = scanWindowYMin = 0.3333  # fractional coordinates\n",
    "scanWindowXMax = scanWindowYMax = 0.6666  # fractional coordinates"
   ]
  },
  {
   "cell_type": "code",
   "execution_count": null,
   "metadata": {},
   "outputs": [],
   "source": [
    "for occ in occupancy:\n",
    "    filenameAtoms = f\"{base_name}{occ}.xyz\"\n",
    "    basename = f\"{base_name}{occ}-TDS{phonons}-tile{tileX}x{tileY}\"\n",
    "    filenameOutput = f\"{basename}.h5\"\n",
    "\n",
    "    meta = pr.Metadata(\n",
    "        interpolationFactorX=4,\n",
    "        interpolationFactorY=4,\n",
    "        filenameAtoms=filenameAtoms,\n",
    "        filenameOutput=filenameOutput,\n",
    "        realspacePixelSizeX=0.075,\n",
    "        realspacePixelSizeY=0.075,\n",
    "        potBound=2,\n",
    "        numFP=phonons,\n",
    "        tileX=tileX,\n",
    "        tileY=tileY,\n",
    "        tileZ=tileZ,\n",
    "        E0=E0,\n",
    "        alphaBeamMax=40,\n",
    "        probeStepX=probeStepX,\n",
    "        probeStepY=probeStepY,\n",
    "        probeDefocus=probeDefocus,\n",
    "        C3=C3,\n",
    "        probeSemiangle=probeSemiangle,\n",
    "        detectorAngleStep=1,\n",
    "        probeXtilt=0,\n",
    "        probeYtilt=0,\n",
    "        scanWindowXMin=scanWindowXMin,\n",
    "        scanWindowYMin=scanWindowYMin,\n",
    "        scanWindowXMax=scanWindowXMax,\n",
    "        scanWindowYMax=scanWindowYMax,\n",
    "        randomSeed=13550,\n",
    "        algorithm='multislice',\n",
    "        includeThermalEffects=True,\n",
    "        alsoDoCPUWork=True,\n",
    "        save2DOutput=False,\n",
    "        save3DOutput=True,\n",
    "        save4DOutput=False,\n",
    "        saveDPC_CoM=True,\n",
    "        savePotentialSlices=False,\n",
    "        integrationAngleMin=60,\n",
    "        integrationAngleMax=120,\n",
    "        transferMode=\"auto\",\n",
    "    )\n",
    "    meta.includeOccupancy = True\n",
    "    meta.writeParameters(f\"{basename}.txt\")\n",
    "    start = time.time()\n",
    "    meta.go()\n",
    "    end = time.time()\n",
    "    formatted_time = time.strftime(\"%H:%M:%S\", time.gmtime(end-start))\n",
    "    total_time = f\"The simulation time of {filenameOutput} was: {formatted_time} ({end-start:6g} s)\"\n",
    "    print(total_time)\n",
    "    with open(f\"{basename}-timing.txt\", 'w') as f:\n",
    "        f.write(total_time)"
   ]
  },
  {
   "cell_type": "code",
   "execution_count": null,
   "metadata": {},
   "outputs": [],
   "source": []
  }
 ],
 "metadata": {
  "kernelspec": {
   "display_name": "Python [conda env:root] *",
   "language": "python",
   "name": "conda-root-py"
  },
  "language_info": {
   "codemirror_mode": {
    "name": "ipython",
    "version": 3
   },
   "file_extension": ".py",
   "mimetype": "text/x-python",
   "name": "python",
   "nbconvert_exporter": "python",
   "pygments_lexer": "ipython3",
   "version": "3.8.8"
  }
 },
 "nbformat": 4,
 "nbformat_minor": 4
}
