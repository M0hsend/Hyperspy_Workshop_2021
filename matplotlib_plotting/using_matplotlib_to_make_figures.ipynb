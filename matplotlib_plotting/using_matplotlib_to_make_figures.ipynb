{
 "cells": [
  {
   "cell_type": "markdown",
   "metadata": {},
   "source": [
    "# Making figures using matplotlib"
   ]
  },
  {
   "cell_type": "markdown",
   "metadata": {},
   "source": [
    "`matplotlib` is a powerful python library for plotting and visualizing data. It can be used for interactive visualization, like in HyperSpy, but its main focus is making non-intearctive figures and plots.\n",
    "\n",
    "Thus, I use `matplotlib` for making pretty much all of my publication figures.\n",
    "\n",
    "This notebook shows how to plot both image data and spectroscopy data from HyperSpy signals, using matplotlib."
   ]
  },
  {
   "cell_type": "markdown",
   "metadata": {},
   "source": [
    "#### Requires"
   ]
  },
  {
   "cell_type": "markdown",
   "metadata": {},
   "source": [
    "HyperSpy 1.3 or later\n",
    "\n",
    "Matplotlib 2.0 or later"
   ]
  },
  {
   "cell_type": "markdown",
   "metadata": {},
   "source": [
    "### Credits"
   ]
  },
  {
   "cell_type": "markdown",
   "metadata": {},
   "source": [
    "- 2017/09/10 Magnus Nord. Initial version"
   ]
  },
  {
   "cell_type": "markdown",
   "metadata": {},
   "source": [
    "## Making a simple image from a Signal2D\n",
    "\n",
    "Firstly, lets make a simple image from an annular dark field (ADF) dataset of SrTiO$_3$. Lets load the file: `datasets/sto_stem_adf.hspy`"
   ]
  },
  {
   "cell_type": "markdown",
   "metadata": {},
   "source": [
    "Import the plotting library, and import hyperspy"
   ]
  },
  {
   "cell_type": "code",
   "execution_count": null,
   "metadata": {},
   "outputs": [],
   "source": [
    "\n"
   ]
  },
  {
   "cell_type": "markdown",
   "metadata": {},
   "source": [
    "Loading the data file"
   ]
  },
  {
   "cell_type": "code",
   "execution_count": null,
   "metadata": {},
   "outputs": [],
   "source": []
  },
  {
   "cell_type": "markdown",
   "metadata": {},
   "source": [
    "Lets have a quick look at the data.\n",
    "\n",
    "This is a scanning transmission electron microscopy - high angle annular dark field (STEM-HAADF) dataset of single crystalline SrTiO$_3$, where the electron beam has intentionally been left on several spots for increasing amounts of time. Essentially to see how the material responds to increasing amount of electron beam dose.\n",
    "\n",
    "You can see this in the dark regions here, where the darker regions have been exposed to more electron beam dose.\n",
    "\n",
    "To get more information about this data, you can look at the article **Assessing electron beam sensitivity for SrTiO$_3$ and La$_{0.7}$Sr$_{0.3}$MnO$_3$ using electron energy loss spectroscopy**, DOI: [10.1016/j.ultramic.2016.07.004](https://doi.org/10.1016/j.ultramic.2016.07.004). arXiv version (pdf): https://arxiv.org/pdf/1608.07814.pdf (Figure 3, page 21)"
   ]
  },
  {
   "cell_type": "code",
   "execution_count": null,
   "metadata": {},
   "outputs": [],
   "source": []
  },
  {
   "cell_type": "markdown",
   "metadata": {},
   "source": [
    "So lets make a nice jpg figure of this, using matplotlib!"
   ]
  },
  {
   "cell_type": "markdown",
   "metadata": {},
   "source": [
    "### First step: a very simple figure\n",
    "\n",
    "Importing matplotlib"
   ]
  },
  {
   "cell_type": "code",
   "execution_count": null,
   "metadata": {},
   "outputs": [],
   "source": []
  },
  {
   "cell_type": "markdown",
   "metadata": {},
   "source": [
    "A central part of `matplotlib` is the `Figure` and `axes` (or subplot) object, which both are generated via the `plt.subplots` function.\n",
    "\n",
    "We'll get to the properties of these two objects afterwards."
   ]
  },
  {
   "cell_type": "code",
   "execution_count": null,
   "metadata": {},
   "outputs": [],
   "source": []
  },
  {
   "cell_type": "markdown",
   "metadata": {},
   "source": [
    "The `ax` object is where we actually plot the data, so lets start there by visualizing the data in the signal `s`. Since the STEM-ADF is image data, we use the `imshow` function in `ax`."
   ]
  },
  {
   "cell_type": "code",
   "execution_count": null,
   "metadata": {},
   "outputs": [],
   "source": []
  },
  {
   "cell_type": "markdown",
   "metadata": {},
   "source": [
    "This will (probably) update the figure generated when running `plt.subplots`. If it doesn't try running `fig.show()`. If that doesn't work, run `fig.savefig(\"test_image.jpg`.\n",
    "\n",
    "So this shows the data, but it doesn't look like a \"typical\" visualization of this type of data:\n",
    "\n",
    "- No scalebar\n",
    "- Wrong scaling\n",
    "- Different colormap from what is (typically) used\n",
    "- Lots of unnecessary space, since we really want to focus on the darker regions\n",
    "- Should rotate it, so that the interesting features go from left to right\n",
    "- Remove the numbers on the sides\n",
    "\n",
    "To do this, lets make a new figure object"
   ]
  },
  {
   "cell_type": "markdown",
   "metadata": {},
   "source": [
    "### A less simple figure"
   ]
  },
  {
   "cell_type": "code",
   "execution_count": null,
   "metadata": {},
   "outputs": [],
   "source": []
  },
  {
   "cell_type": "markdown",
   "metadata": {},
   "source": [
    "Rotate the signal itself, which we do using `swap_axes`"
   ]
  },
  {
   "cell_type": "code",
   "execution_count": null,
   "metadata": {},
   "outputs": [],
   "source": []
  },
  {
   "cell_type": "markdown",
   "metadata": {},
   "source": [
    "This time, we set both the color map using the `cmap` parameter, and set the scale by utilizing `s.axes_manager.signal_extent`."
   ]
  },
  {
   "cell_type": "code",
   "execution_count": null,
   "metadata": {},
   "outputs": [],
   "source": []
  },
  {
   "cell_type": "markdown",
   "metadata": {},
   "source": [
    "So now we have scaled the figure, which we can see from the numbers at the edges. But we rather want a more \"classic\" scalebar. For this, we use `AnchoredSizeBar`, which we need to import firstly."
   ]
  },
  {
   "cell_type": "code",
   "execution_count": null,
   "metadata": {},
   "outputs": [],
   "source": [
    "from mpl_toolkits.axes_grid1.anchored_artists import AnchoredSizeBar\n",
    "import matplotlib.font_manager as fm"
   ]
  },
  {
   "cell_type": "markdown",
   "metadata": {},
   "source": [
    "To make it look like a \"standard\" scalebar, we need quite a bit of parameters"
   ]
  },
  {
   "cell_type": "code",
   "execution_count": null,
   "metadata": {},
   "outputs": [],
   "source": [
    "fontprops = fm.FontProperties(size=15)\n",
    "scalebar = AnchoredSizeBar(\n",
    "        transform=ax.transData, size=5, label='5 nm',\n",
    "        loc=4, frameon=False,\n",
    "        color='white', size_vertical=0.7,\n",
    "        label_top=False,\n",
    "        fontproperties=fontprops)"
   ]
  },
  {
   "cell_type": "markdown",
   "metadata": {},
   "source": [
    "This makes a \"artist\" which needs to be added to the `ax` object via `add_artist`"
   ]
  },
  {
   "cell_type": "code",
   "execution_count": null,
   "metadata": {},
   "outputs": [],
   "source": []
  },
  {
   "cell_type": "markdown",
   "metadata": {},
   "source": [
    "Next, lets crop the image a bit, so we get the regions with the dark contrast."
   ]
  },
  {
   "cell_type": "code",
   "execution_count": null,
   "metadata": {},
   "outputs": [],
   "source": []
  },
  {
   "cell_type": "markdown",
   "metadata": {},
   "source": [
    "Next, we disable the numbers at the edges, since we have a scalebar showing the scale."
   ]
  },
  {
   "cell_type": "code",
   "execution_count": null,
   "metadata": {},
   "outputs": [],
   "source": []
  },
  {
   "cell_type": "markdown",
   "metadata": {},
   "source": [
    "Since we probably want to discuss the features in the text in the article, lets add some numbers over the different dark regions."
   ]
  },
  {
   "cell_type": "code",
   "execution_count": null,
   "metadata": {},
   "outputs": [],
   "source": []
  },
  {
   "cell_type": "code",
   "execution_count": null,
   "metadata": {},
   "outputs": [],
   "source": []
  },
  {
   "cell_type": "code",
   "execution_count": null,
   "metadata": {},
   "outputs": [],
   "source": []
  },
  {
   "cell_type": "code",
   "execution_count": null,
   "metadata": {},
   "outputs": [],
   "source": []
  },
  {
   "cell_type": "code",
   "execution_count": null,
   "metadata": {},
   "outputs": [],
   "source": []
  },
  {
   "cell_type": "markdown",
   "metadata": {},
   "source": [
    "Now it is looking pretty nice! We save the figure using `fig.savefig`."
   ]
  },
  {
   "cell_type": "code",
   "execution_count": null,
   "metadata": {},
   "outputs": [],
   "source": []
  },
  {
   "cell_type": "markdown",
   "metadata": {},
   "source": [
    "### More axes!"
   ]
  },
  {
   "cell_type": "markdown",
   "metadata": {},
   "source": [
    "So this was a single subplot in one figure. We can also have many subplots, for visualizing more complex data. Lets plot the EEL spectra which were acquired while exposing the sample to the electron beam.\n",
    "\n",
    "For this, we use `GridSpec` which allows for highly customized layouts."
   ]
  },
  {
   "cell_type": "code",
   "execution_count": null,
   "metadata": {},
   "outputs": [],
   "source": []
  },
  {
   "cell_type": "markdown",
   "metadata": {},
   "source": [
    "Then lets make the `GridSpec`, and "
   ]
  },
  {
   "cell_type": "code",
   "execution_count": null,
   "metadata": {},
   "outputs": [],
   "source": []
  },
  {
   "cell_type": "code",
   "execution_count": null,
   "metadata": {},
   "outputs": [],
   "source": []
  },
  {
   "cell_type": "code",
   "execution_count": null,
   "metadata": {},
   "outputs": [],
   "source": [
    "\n",
    "\n",
    "\n",
    "\n",
    "\n"
   ]
  },
  {
   "cell_type": "markdown",
   "metadata": {},
   "source": [
    "#### Plotting the same data as earlier"
   ]
  },
  {
   "cell_type": "code",
   "execution_count": null,
   "metadata": {},
   "outputs": [],
   "source": [
    "from mpl_toolkits.axes_grid1.anchored_artists import AnchoredSizeBar\n",
    "import matplotlib.font_manager as fm\n",
    "s_rot = s.swap_axes(0, 1)\n",
    "ax.imshow(s_rot, cmap=\"binary_r\", extent=s_rot.axes_manager.signal_extent)\n",
    "fontprops = fm.FontProperties(size=15)\n",
    "scalebar = AnchoredSizeBar(\n",
    "        transform=ax.transData, size=5, label='5 nm',\n",
    "        loc=4, frameon=False,\n",
    "        color='white', size_vertical=0.7,\n",
    "        label_top=False,\n",
    "        fontproperties=fontprops)\n",
    "ax.add_artist(scalebar)\n",
    "ax.set_ylim(9, 18)\n",
    "ax.set_axis_off()\n",
    "ax.text(5, 15, \"1\", color=\"white\", fontsize=20)\n",
    "ax.text(10, 15, \"2\", color=\"white\", fontsize=20)\n",
    "ax.text(15, 15, \"3\", color=\"white\", fontsize=20)\n",
    "ax.text(20.5, 15, \"4\", color=\"white\", fontsize=20)\n",
    "ax.text(25.7, 15, \"5\", color=\"white\", fontsize=20)"
   ]
  },
  {
   "cell_type": "markdown",
   "metadata": {},
   "source": [
    "### Plotting EELS data"
   ]
  },
  {
   "cell_type": "code",
   "execution_count": null,
   "metadata": {},
   "outputs": [],
   "source": [
    "\n",
    "\n",
    "\n",
    "\n",
    "\n"
   ]
  },
  {
   "cell_type": "markdown",
   "metadata": {},
   "source": [
    "Now, we need to use the `plot` function instead of `imshow`, since it is 1 dimensional data.\n",
    "\n",
    "To get the \"x-axis\" data, we use the `s.axes_manager[0].axis`"
   ]
  },
  {
   "cell_type": "code",
   "execution_count": null,
   "metadata": {},
   "outputs": [],
   "source": [
    "\n",
    "\n",
    "\n",
    "\n",
    "\n"
   ]
  },
  {
   "cell_type": "markdown",
   "metadata": {},
   "source": [
    "Disable the y-axis numbers, to make the plot a bit less busy"
   ]
  },
  {
   "cell_type": "code",
   "execution_count": null,
   "metadata": {},
   "outputs": [],
   "source": [
    "\n",
    "\n",
    "\n",
    "\n",
    "\n"
   ]
  },
  {
   "cell_type": "markdown",
   "metadata": {},
   "source": [
    "Then set arbitratry units for the y-axis"
   ]
  },
  {
   "cell_type": "code",
   "execution_count": null,
   "metadata": {},
   "outputs": [],
   "source": []
  },
  {
   "cell_type": "markdown",
   "metadata": {},
   "source": [
    "And electron energy loss for the x-label"
   ]
  },
  {
   "cell_type": "code",
   "execution_count": null,
   "metadata": {},
   "outputs": [],
   "source": []
  },
  {
   "cell_type": "markdown",
   "metadata": {},
   "source": [
    "Lastly, labeling for the plots themselves. Where we use the `transform` parameter to set the coordinate system for the text. This make it much easier to add these types of labels. Since the default coordinate system is the scaled data."
   ]
  },
  {
   "cell_type": "code",
   "execution_count": null,
   "metadata": {},
   "outputs": [],
   "source": [
    "\n",
    "\n",
    "\n",
    "\n",
    "\n"
   ]
  },
  {
   "cell_type": "code",
   "execution_count": null,
   "metadata": {},
   "outputs": [],
   "source": []
  },
  {
   "cell_type": "markdown",
   "metadata": {},
   "source": [
    "## Some more examples of matplotlib images\n",
    "\n",
    "* https://en.wikipedia.org/wiki/Quantum_dot#/media/File:Gaas_inas_quantum_dot.jpg\n",
    "* https://en.wikipedia.org/wiki/Perovskite_(structure)#/media/File:Perovskite_oxide_thin_film.jpg with overlay of atomic structure using [Atomic Simulation Environment](https://wiki.fysik.dtu.dk/ase/ase/visualize/visualize.html#matplotlib) (ASE)\n",
    "* https://en.wikipedia.org/wiki/Scanning_transmission_electron_microscopy#/media/File:Scanning_transmission_electron_microscopy_srtio3_compare_adf_abf.jpg\n",
    "* https://en.wikipedia.org/wiki/Scanning_transmission_electron_microscopy#/media/File:Stem_dpc_schematic_magnetic_explanation.jpg\n",
    "* https://en.wikipedia.org/wiki/Scanning_transmission_electron_microscopy#/media/File:Ferromagnetic_domains_in_spiral_pattern_for_Fe60Al40.jpg\n",
    "* https://en.wikipedia.org/wiki/Electron_energy_loss_spectroscopy#/media/File:Electron_energy_loss_spectrum_feature_overview.svg\n",
    "* https://en.wikipedia.org/wiki/Electron_energy_loss_spectroscopy#/media/File:Electron_energy_loss_spectroscopy_coreloss_lsmo.svg"
   ]
  }
 ],
 "metadata": {
  "kernelspec": {
   "display_name": "Python 3",
   "language": "python",
   "name": "python3"
  },
  "language_info": {
   "codemirror_mode": {
    "name": "ipython",
    "version": 3
   },
   "file_extension": ".py",
   "mimetype": "text/x-python",
   "name": "python",
   "nbconvert_exporter": "python",
   "pygments_lexer": "ipython3",
   "version": "3.9.2"
  }
 },
 "nbformat": 4,
 "nbformat_minor": 4
}
