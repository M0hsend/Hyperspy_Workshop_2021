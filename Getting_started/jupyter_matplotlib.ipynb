{
 "cells": [
  {
   "cell_type": "markdown",
   "id": "afc2df94",
   "metadata": {},
   "source": [
    "# Interactivity with Jupyter and Matplotlib\n",
    "\n",
    "### Project Jupyter\n",
    "The [project Jupyter](https://jupyter.org) is a project and a community developing open-source software, open-standards, and services for interactive computing across severals programming languages.\n",
    "\n",
    "In this workshop, we will run the [jupyter notebook](https://jupyter-notebook.readthedocs.io) remotely on a JupyterHub server hosted on Google Cloud Platform. The notebook documents used in this workshop can also be used locally (on your own computer) using the [jupyter notebook](https://jupyter-notebook.readthedocs.io) or the [jupyter lab](https://jupyterlab.readthedocs.io/en/stable).\n",
    "\n",
    "### Matplotlib\n",
    "[Matplotlib](https://matplotlib.org) is a comprehensive python library for plotting and interactive visualizations of data."
   ]
  },
  {
   "cell_type": "markdown",
   "id": "830b2b65",
   "metadata": {},
   "source": [
    "## 1. Before Getting Started\n",
    "\n",
    "Before learning about HyperSpy, we will start by learning how to use notebook documents interactively, and we will go through the following:\n",
    "- How to use a jupyter notebook document?\n",
    "  - The difference between a jupyter notebook **application** and **document** \n",
    "  - Start/stop a jupyter notebook **application**\n",
    "  - Start/stop a **jupyter kernel**\n",
    "- How to visualise data interactively?\n",
    "  - The use of different **matplotlib backend**\n",
    "  - Change backend"
   ]
  },
  {
   "cell_type": "markdown",
   "id": "3cfd1d51-c5ca-4224-a8d9-2244c7b9daa9",
   "metadata": {},
   "source": [
    "## 2. Jupyter Notebook\n",
    "The jupyter notebook document contains cells and these can be of different types, the two main are:\n",
    "- *code* to execute code\n",
    "- *markdown* to write notes, comments, etc. For example, this current cell is of markdown type\n",
    "\n",
    "The following cell is of *code* type:"
   ]
  },
  {
   "cell_type": "code",
   "execution_count": null,
   "id": "aa90959d-2911-4a50-bd6d-c128833eac3f",
   "metadata": {},
   "outputs": [],
   "source": [
    "print('This is a code cell, which has an input and an output')"
   ]
  },
  {
   "cell_type": "markdown",
   "id": "152512fb-d750-40e2-81c9-f6013afad23b",
   "metadata": {},
   "source": [
    "To execute a code cell:\n",
    "- select the cell\n",
    "- press **shift + Enter**\n",
    "\n",
    "The execution of a code cell needs a kernel to be running. A kernel is started automatically when opening a notebook document. It can be stopped and restarted."
   ]
  },
  {
   "cell_type": "markdown",
   "id": "3a99aa91-93cb-4af4-ae5b-264cce5841f4",
   "metadata": {},
   "source": [
    "## 3. Plotting (Non-)Interactively"
   ]
  },
  {
   "cell_type": "code",
   "execution_count": null,
   "id": "4ef88969-1168-43ca-bac4-6dec54c47bce",
   "metadata": {},
   "outputs": [],
   "source": [
    "# Import matplotlib\n",
    "import matplotlib.pyplot as plt"
   ]
  },
  {
   "cell_type": "code",
   "execution_count": null,
   "id": "298ad3e7-dd90-4d3d-a482-65bc85b705f5",
   "metadata": {
    "scrolled": true
   },
   "outputs": [],
   "source": [
    "# Plot a series of numbers\n",
    "plt.plot([0, 1, 2])"
   ]
  },
  {
   "cell_type": "markdown",
   "id": "09d7c23d",
   "metadata": {},
   "source": [
    "The plot above is clearly not interactive, because by default, matplotlib use a non-interactive backend."
   ]
  },
  {
   "cell_type": "code",
   "execution_count": null,
   "id": "e7a731fb-f969-4d54-baf6-5dabea7b3923",
   "metadata": {},
   "outputs": [],
   "source": [
    "# Initialise the notebook backend\n",
    "%matplotlib notebook"
   ]
  },
  {
   "cell_type": "code",
   "execution_count": null,
   "id": "eb0c5a39",
   "metadata": {},
   "outputs": [],
   "source": [
    "plt.plot([0, 1, 2])"
   ]
  },
  {
   "cell_type": "markdown",
   "id": "287fca73",
   "metadata": {},
   "source": [
    "This last figure is now interactive, because we have initialised the `notebook` **matplotlib backend** using `%matplotlib notebook`"
   ]
  },
  {
   "cell_type": "markdown",
   "id": "bd92f8b6-3d6f-47b1-afac-2b7a2a5b6478",
   "metadata": {},
   "source": [
    "### 3.1 What is a maplotlib backend?\n",
    "\n",
    "Matplotlib can display data in many different environments and provide figures for different types of outputs: a notebook cell, a separate window, etc. The [matplotlib backend](https://matplotlib.org/stable/tutorials/introductory/usage.html#what-is-a-backend) refers to the part of matplotlib which generates a figure for a specific environment/output.\n",
    "\n",
    "Matplotlib has many [plotting backends](https://matplotlib.org/stable/tutorials/introductory/usage.html#the-builtin-backends) and the most common are:\n",
    "- `notebook` (Jupyter Notebook only)\n",
    "- `qt`\n",
    "- `widget` (Jupyter Lab and Notebook only).\n",
    "\n",
    "To initialise a specific plotting backend, we usually use an IPython magic command:\n",
    "\n",
    "```python\n",
    "%matplotlib name_of_backend\n",
    "```"
   ]
  },
  {
   "cell_type": "markdown",
   "id": "fee9204c-1ae5-492f-981a-1f61463bb600",
   "metadata": {},
   "source": [
    "The `notebook` backend will display the matplotlib figure as an notebook output and is **interactive**. It works only in the jupyter notebook application and not in the jupyter lab.\n",
    "\n",
    "**NOTE:** Only one interactive backend can be initialised for a running kernel. It is possible to switch from interactive to non-interactive backends but not between interactive backends. To switch interactive backends, it is necessary to restart the kernel."
   ]
  },
  {
   "cell_type": "markdown",
   "id": "7dc73ba9-20a9-435e-b036-303cecf72051",
   "metadata": {},
   "source": [
    "### 3.2 What matplotlib backend to use?\n",
    "\n",
    "In this workshop, we will primarily use the `notebook` backend, because this is the only one which is currently working remotely. However, this backend is known to be slow, which limits its use for fast interactive plotting.\n",
    "An alternative is to use the `qt` backend, but it requires the notebook server to run locally (Qt is a GUI framework, which requires a display server to run and cloud computing is not designed to run display servers)."
   ]
  },
  {
   "cell_type": "code",
   "execution_count": null,
   "id": "39b68725-5059-4209-81f8-5633db0a23c4",
   "metadata": {},
   "outputs": [],
   "source": [
    "# If running locally, try to change the plotting backend to `qt`\n",
    "%matplotlib qt"
   ]
  },
  {
   "cell_type": "markdown",
   "id": "78c865a7",
   "metadata": {},
   "source": [
    "At this point, this is very likely, that you get an error message. If you are running locally, the error message should tell you that that you can't change backend, therefore try to restart the kernel from the menu or the top bar."
   ]
  },
  {
   "cell_type": "code",
   "execution_count": null,
   "id": "29a145f0-c9f8-4400-95d8-c383cc7da604",
   "metadata": {},
   "outputs": [],
   "source": [
    "plt.plot([0, 1, 2])"
   ]
  },
  {
   "cell_type": "markdown",
   "id": "1b93b55a",
   "metadata": {},
   "source": [
    "If you have restarted the kernel, ran the cell above just after initialising the `qt` backend, this is very likely you get a error message! This is normal, restarting a kernel means you start from scratch: variables will need to created again and libraries imported again for the current kernel."
   ]
  },
  {
   "cell_type": "code",
   "execution_count": null,
   "id": "7e5f8105",
   "metadata": {},
   "outputs": [],
   "source": []
  }
 ],
 "metadata": {
  "kernelspec": {
   "display_name": "Python 3",
   "language": "python",
   "name": "python3"
  },
  "language_info": {
   "codemirror_mode": {
    "name": "ipython",
    "version": 3
   },
   "file_extension": ".py",
   "mimetype": "text/x-python",
   "name": "python",
   "nbconvert_exporter": "python",
   "pygments_lexer": "ipython3",
   "version": "3.8.8"
  },
  "toc-showtags": false
 },
 "nbformat": 4,
 "nbformat_minor": 5
}
